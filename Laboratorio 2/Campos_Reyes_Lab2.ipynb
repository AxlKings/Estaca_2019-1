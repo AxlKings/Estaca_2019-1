{
 "cells": [
  {
   "cell_type": "markdown",
   "metadata": {},
   "source": [
    "<table style=\"width:100%\">\n",
    "  <tr>\n",
    "    <th align=\"right\"><img src=\"img/dilogo.png\" style=\"float:left;height:90px\"></th>\n",
    "    <th align=\"center\">\n",
    "    <h1 align=\"center\">Laboratorio 2</h1>\n",
    "    <h2 align=\"center\">Profesor: Ricardo Ñanculef</h2>\n",
    "    <h3 align=\"center\">Ayudante: Gabriel Ortega</h3>\n",
    "    <h3 align=\"center\">Sebastián Campos;201773517-1;Nueva</h3>\n",
    "    <h3 align=\"center\">Axel Reyes;201773502-3;Nueva</h3>\n",
    "    <h3 align=\"center\">Abril 2019</h3>\n",
    "    </th> \n",
    "    <th align=\"left\"><img src=\"img/usmlogo.png\" style=\"float:right;height:85px\"></th>\n",
    "  </tr>"
   ]
  },
  {
   "cell_type": "markdown",
   "metadata": {},
   "source": [
    "## Instrucciones\n",
    "\n",
    "La modalidad de trabajo será mediante el uso de jupyter notebook. El notebook debe ser desarrollado en parejas o individual. Este laboratorio debe ser entregado el día 3 de Mayo.\n",
    "\n",
    "La **modalidad de entrega será un archivo Apellido1_Apellido2_Lab2.zip** que contenga un notebook que incluya todas las preguntas con sus respectivas respuestas + un README que indique la forma correcta de ejecutar su notebook. El laboratorio puede ser trabajado tanto en lenguaje R como en lenguaje python (para los que usen python 2.X, absténganse a las consecuencias). Lea bien el enunciado.\n",
    "\n",
    "\n",
    "**Cualquier copia detectada implicará nota 0 en el laboratorio correspondiente y se notificará la situación al profesor.**\n"
   ]
  },
  {
   "cell_type": "markdown",
   "metadata": {},
   "source": [
    "---\n",
    "**Esto es solo una sugerencia y no tendrá ningún impacto en su nota**\n",
    "\n",
    "## Tip para Gráficos (Python)\n",
    "\n",
    "Puede hacer sus gráficos un poco más estilosos utilizando la libreria seaborn\n",
    "\n",
    "```python\n",
    "import matplotlib.pyplot as plt\n",
    "import seaborn as sns\n",
    "sns.set()\n",
    "%matplotlib inline #con esto no es necesario hacer plt.show()\n",
    "```\n",
    "\n",
    "El uso es igual que un gráfico de matplotlib, solo que ```sns.set()``` hace que se cargue la visualización de seaborn encima. [Informacion sobre seaborn.set()](https://seaborn.pydata.org/generated/seaborn.set.html)\n",
    "\n",
    "## Tip para Gráficos (R)\n",
    "\n",
    "Puede hacer sus gráficos un poco más estilosos utilizando la libreria [ggplot2](https://www.statmethods.net/advgraphs/ggplot2.html)\n",
    "\n",
    "\n",
    "## Interactive Widgets\n",
    "\n",
    "Si usted está trabajando en python puede hacer una widget interactiva que varíe los parámetros de una función, como se puede ver en el siguiente fragmento de código (debe ejecutarlo)."
   ]
  },
  {
   "cell_type": "code",
   "execution_count": 14,
   "metadata": {},
   "outputs": [
    {
     "data": {
      "application/vnd.jupyter.widget-view+json": {
       "model_id": "6fcffb74120648dc87a9d6507eddc562",
       "version_major": 2,
       "version_minor": 0
      },
      "text/plain": [
       "A Jupyter Widget"
      ]
     },
     "metadata": {},
     "output_type": "display_data"
    },
    {
     "data": {
      "text/plain": [
       "<function __main__.plot_serie>"
      ]
     },
     "execution_count": 14,
     "metadata": {},
     "output_type": "execute_result"
    }
   ],
   "source": [
    "from ipywidgets import interact \n",
    "import matplotlib.pyplot as plt\n",
    "import seaborn as sns\n",
    "import numpy as np\n",
    "sns.set()\n",
    "%matplotlib inline \n",
    "\n",
    "def plot_serie(x):\n",
    "    values = np.arange(1,x,0.5)**2\n",
    "    values2 = np.arange(1,x,0.5)**3\n",
    "    plt.xlabel(\"X\")\n",
    "    plt.ylabel(\"Y\")\n",
    "    plt.plot(values/values2)\n",
    "        \n",
    "\n",
    "interact(plot_serie,x=(2,20))"
   ]
  },
  {
   "cell_type": "markdown",
   "metadata": {},
   "source": [
    "---\n",
    "## 1. Retención de Clientes\n",
    "\n",
    "La fuga (*churn*, término en inglés) de clientes es algo que muchas empresas de hoy en día sufren, la fuga puede deberse a muchos factores, uno de estos podría ser alguna característica del servicio en sí que provee la empresa. En esta sección usted trabajará con un dataset de \"Telco\", una empresa de telecomunicaciones, donde verá varios datos relacionados al plan de los clientes, uno de estos campos siendo \"*Churn*\", si el cliente se fugó o no. \n",
    "\n",
    "El archivo a utilizar es \"churn.csv\" y para información extra puede referirse a [este enlace](https://www.kaggle.com/blastchar/telco-customer-churn)\n",
    "\n",
    ">a) Haga un análisis exploratorio **a su criterio** del dataset y extraiga 3 conclusiones acerca del conjunto de datos"
   ]
  },
  {
   "cell_type": "code",
   "execution_count": 3,
   "metadata": {},
   "outputs": [
    {
     "name": "stderr",
     "output_type": "stream",
     "text": [
      "No handles with labels found to put in legend.\n"
     ]
    },
    {
     "data": {
      "text/plain": [
       "array([<matplotlib.axes._subplots.AxesSubplot object at 0x000002A070275EB8>,\n",
       "       <matplotlib.axes._subplots.AxesSubplot object at 0x000002A070A69EB8>],\n",
       "      dtype=object)"
      ]
     },
     "execution_count": 3,
     "metadata": {},
     "output_type": "execute_result"
    },
    {
     "data": {
      "image/png": "[encoded data removed]",
      "text/plain": [
       "<Figure size 864x648 with 2 Axes>"
      ]
     },
     "metadata": {
      "needs_background": "light"
     },
     "output_type": "display_data"
    }
   ],
   "source": [
    "import pandas as pd\n",
    "import matplotlib.pyplot as plt\n",
    "#Se extraen los datos de churn.csv\n",
    "info=pd.read_csv('churn.csv',sep=',',header=0,index_col =0)\n",
    "#Se realiza una agrupación de tenure y genero\n",
    "hist=info.groupby(['tenure','gender']).size()\n",
    "#Se realizan los histograma de Tenure siendo mujer y tenure siendo hombre\n",
    "fig=plt.figure(figsize=(12,9))\n",
    "ax=fig.gca()\n",
    "plt.xticks(fontsize=14)  \n",
    "plt.yticks(range(5000, 30001, 5000), fontsize=14)\n",
    "plt.xlabel(\"Elo Rating\", fontsize=16)  \n",
    "plt.ylabel(\"Count\", fontsize=16) \n",
    "plt.legend()\n",
    "hist.hist(by='gender',bins=45,ax=ax,color=['r'])\n"
   ]
  },
  {
   "cell_type": "markdown",
   "metadata": {},
   "source": [
    " El eje X representa el Tenure y el Eje Y representa el rango de la cantidad de personas que lo poseen.\n",
    " Al realizar dos histogramas los cuales representan la población de hombres y mujeres con respecto a su estadía. Se puede notar claramente una distribución bastante similar entre los dos histogramas, con la diferencia de que la escala de los hombres es un poco menor con respecto a las mujeres, mostrando un máximo de aproximadamente 18 para hombres rodeando entre cero y cincuenta meses, en cambio las mujeres muestran aproximadamente 25 como máximo. Finalmente, se concluye que tanto los hombres como las mujeres tienden a mantenerse, en promedio, la misma cantidad de meses en la empresa.\n",
    " "
   ]
  },
  {
   "cell_type": "code",
   "execution_count": 4,
   "metadata": {},
   "outputs": [
    {
     "name": "stderr",
     "output_type": "stream",
     "text": [
      "No handles with labels found to put in legend.\n"
     ]
    },
    {
     "data": {
      "text/plain": [
       "array([[<matplotlib.axes._subplots.AxesSubplot object at 0x000002A06D5FECF8>,\n",
       "        <matplotlib.axes._subplots.AxesSubplot object at 0x000002A070B3A748>],\n",
       "       [<matplotlib.axes._subplots.AxesSubplot object at 0x000002A070B639E8>,\n",
       "        <matplotlib.axes._subplots.AxesSubplot object at 0x000002A070B89F60>]],\n",
       "      dtype=object)"
      ]
     },
     "execution_count": 4,
     "metadata": {},
     "output_type": "execute_result"
    },
    {
     "data": {
      "image/png": "[encoded data removed]",
      "text/plain": [
       "<Figure size 864x648 with 4 Axes>"
      ]
     },
     "metadata": {
      "needs_background": "light"
     },
     "output_type": "display_data"
    }
   ],
   "source": [
    "hist=info.groupby(['tenure','InternetService']).size()\n",
    "#Se realizan los histograma de Tenure respecto a los distintos servicios de internet.\n",
    "fig=plt.figure(figsize=(12,9))\n",
    "ax=fig.gca()\n",
    "plt.xticks(fontsize=14)  \n",
    "plt.yticks(range(5000, 30001, 5000), fontsize=14)\n",
    "plt.xlabel(\"XD\", fontsize=16)  \n",
    "plt.ylabel(\"Count\", fontsize=16) \n",
    "plt.legend()\n",
    "hist.hist(by='InternetService',bins=45,ax=ax,color=['b'])\n"
   ]
  },
  {
   "cell_type": "markdown",
   "metadata": {},
   "source": [
    "El eje X representa el Tenure y el Eje Y representa el rango de la cantidad de personas que lo poseen.\n",
    "Como se puede ver en los gráficos, los cliente con fibra óptica tienden un poco más a mantenerse dentro de la empresa respecto a los que no contraran internet y los que contratan DSL. De todas formas, para todos los casos no se muestra una diferencia significativa respecto a las personas que contratan servicios de internet con la compañía con los que no contratan ningún tipo de internet, mostrando un comportamiento similar en relación a su fidelidad con la empresa."
   ]
  },
  {
   "cell_type": "markdown",
   "metadata": {},
   "source": [
    "> b.1) Determine la probabilidad de que: <ul>\n",
    "    <li>Un cliente sea mujer dado que tiene fibra óptica </li>\n",
    "    <li>Un cliente sea hombre dado que tiene fibra óptica</li>\n",
    "    <li>Un cliente sea mujer dado que no tiene fibra óptica</li>\n",
    "    <li>Un cliente sea hombre dado que no tiene fibra óptica</li>\n",
    "    </ul>\n",
    "    Además indique cuál/es de estos pares deben sumar 1 (Si es que algún par debe sumar esta cantidad). Justifique su respuesta.\n",
    "    "
   ]
  },
  {
   "cell_type": "code",
   "execution_count": 3,
   "metadata": {},
   "outputs": [
    {
     "name": "stdout",
     "output_type": "stream",
     "text": [
      "gender  InternetService\n",
      "Female  DSL                1188\n",
      "        Fiber optic        1553\n",
      "        No                  747\n",
      "Male    DSL                1233\n",
      "        Fiber optic        1543\n",
      "        No                  779\n",
      "dtype: int64 \n",
      "\n",
      "gender\n",
      "Female    3488\n",
      "Male      3555\n",
      "dtype: int64 \n",
      "\n",
      "La probabilidad de que un cliente sea mujer dado que tiene fibra optica es: 0.5016149870801033\n",
      "La probabilidad de que un cliente sea hombre dado que tiene fibra optica es: 0.4983850129198967\n",
      "La probabilidad de que un cliente sea mujer dado que no tiene fibra optica es: 0.49024575627058525\n",
      "La probabilidad de que un cliente sea hombre dado que no tiene fibra optica es: 0.5097542437294148\n"
     ]
    }
   ],
   "source": [
    "import pandas as pd\n",
    "info = pd.read_csv(\"churn.csv\",header = 0)\n",
    "\n",
    "# Se crea la tabla de genero y servicio de internet y se muestra por pantalla.\n",
    "gender_and_internet = info.groupby(['gender','InternetService']).size()\n",
    "print(gender_and_internet,'\\n')\n",
    "\n",
    "# Se crea la tabla de gener y se muestra por pantalla\n",
    "gender = info.groupby(['gender']).size()\n",
    "print(gender,'\\n')\n",
    "\n",
    "#Se guarda la cantidad de hombres y mujeres\n",
    "\n",
    "hombre = gender[1]                                   \n",
    "mujer = gender[0]\n",
    "total = hombre + mujer\n",
    "fibra = gender_and_internet[1]+gender_and_internet[4]\n",
    "\n",
    "# Se calcula la probabilidad de ser hombre, mujer, y tener fibra respectivamente.\n",
    "prob_hombre = hombre/total\n",
    "prob_mujer = mujer/total\n",
    "prob_fibra = fibra/total\n",
    "\n",
    "\"\"\"\n",
    "Se guarda la cantidad de mujeres que poseen fibra para calcular la probabilidad de ser mujer y tener\n",
    "fibra a la vez. Finalmente se calcula la probabilidad de ser mujer dado que el cliente tiene fibra.\n",
    "\"\"\"\n",
    "mujer_y_fibra = gender_and_internet[1]\n",
    "mujer_inter_fibra = mujer_y_fibra/total\n",
    "mujer_dado_fibra = mujer_inter_fibra/prob_fibra\n",
    "print(\"La probabilidad de que un cliente sea mujer dado que tiene fibra optica es:\",mujer_dado_fibra)\n",
    "\n",
    "\"\"\"\n",
    "Se guarda la cantidad de hombres que poseen fibra para calcular la probabilidad de ser hombre y tener\n",
    "fibra a la vez. Finalmente se calcula la probabilidad de ser hombre dado que el cliente tiene fibra.\n",
    "\"\"\"\n",
    "hombre_y_fibra = gender_and_internet[4]\n",
    "hombre_inter_fibra = hombre_y_fibra/total\n",
    "hombre_dado_fibra = hombre_inter_fibra/prob_fibra\n",
    "print(\"La probabilidad de que un cliente sea hombre dado que tiene fibra optica es:\",hombre_dado_fibra)\n",
    "\n",
    "\"\"\"\n",
    "Se guarda la cantidad de mujeres que no poseen fibra para calcular la probabilidad de ser mujer y no tener\n",
    "fibra a la vez. Finalmente se calcula la probabilidad de ser mujer dado que el cliente no tiene fibra.\n",
    "\"\"\"\n",
    "mujer_y_nofibra = gender_and_internet[0]+gender_and_internet[2]\n",
    "mujer_inter_nofibra = mujer_y_nofibra/total\n",
    "mujer_dado_nofibra = mujer_inter_nofibra/(1-prob_fibra)\n",
    "print(\"La probabilidad de que un cliente sea mujer dado que no tiene fibra optica es:\",mujer_dado_nofibra)\n",
    "\n",
    "\"\"\"\n",
    "Se guarda la cantidad de hombres que no poseen fibra para calcular la probabilidad de ser hombre y no tener\n",
    "fibra a la vez. Finalmente se calcula la probabilidad de ser hombre dado que el cliente no tiene fibra.\n",
    "\"\"\"\n",
    "hombre_y_nofibra = gender_and_internet[3]+gender_and_internet[5]\n",
    "hombre_inter_nofibra = hombre_y_nofibra/total\n",
    "hombre_dado_nofibra = hombre_inter_nofibra/(1-prob_fibra)\n",
    "print(\"La probabilidad de que un cliente sea hombre dado que no tiene fibra optica es:\",hombre_dado_nofibra)\n"
   ]
  },
  {
   "cell_type": "markdown",
   "metadata": {},
   "source": [
    "La primera con la segunda probabilidad deben sumar 1, al igual que la tercera con la cuarta. Esto porque P(A|B) = 1-P(~A|B). En el primer caso el evento A correspondría a \"ser mujer\" y B \"tener fibra optica\"\n",
    "En el segundo caso El evento A también sería \"ser mujer\", pero el evento B sería \"no tener fibra óptica\". En ambos casos el evento B se mantiene intacto, mientras que la negación sólo va en el evento A, cumpliéndose que P(A|B) = 1-P(~A|B)"
   ]
  },
  {
   "cell_type": "markdown",
   "metadata": {},
   "source": [
    ">b.2) ¿Es posible concluir que si un cliente es hombre tiene más probabilidad de tener fibra óptica? ¿Y si es mujer? ¿Por qué?"
   ]
  },
  {
   "cell_type": "markdown",
   "metadata": {},
   "source": [
    "A priori no , ya que P(A|B) no necesariamente es igual que P(B|A), que es lo que propone la pregunta. Pero se puede calcular por teorema de Bayes como P(B|A) = (P(A|B)*P(B))/P(A)"
   ]
  },
  {
   "cell_type": "code",
   "execution_count": 4,
   "metadata": {},
   "outputs": [
    {
     "name": "stdout",
     "output_type": "stream",
     "text": [
      "La probabilidad de que un cliente tenga fibra optica dado que es hombre es de: 0.4340365682137834\n",
      "La probabilidad de que un cliente tenga fibra optica dado que es mujer es de: 0.4452408256880734\n"
     ]
    }
   ],
   "source": [
    "fibra_dado_hombre = (hombre_dado_fibra*prob_fibra)/prob_hombre\n",
    "fibra_dado_mujer = (mujer_dado_fibra*prob_fibra)/prob_mujer\n",
    "print(\"La probabilidad de que un cliente tenga fibra optica dado que es hombre es de:\",fibra_dado_hombre)\n",
    "print(\"La probabilidad de que un cliente tenga fibra optica dado que es mujer es de:\",fibra_dado_mujer)"
   ]
  },
  {
   "cell_type": "markdown",
   "metadata": {},
   "source": [
    "Dado que ambos resultados no superan el 50% de probabilidad independiente de si el cliente es hombre o mujer, es menos probable de que tenga fibra optica en lugar de otros servicios de internet o no tener. "
   ]
  },
  {
   "cell_type": "markdown",
   "metadata": {},
   "source": [
    ">c) Utilizando criterios de probabilidad condicional ¿Hay algún servicio de internet más propenso a la fuga?"
   ]
  },
  {
   "cell_type": "code",
   "execution_count": 5,
   "metadata": {},
   "outputs": [
    {
     "name": "stdout",
     "output_type": "stream",
     "text": [
      "Churn  InternetService\n",
      "No     DSL                1962\n",
      "       Fiber optic        1799\n",
      "       No                 1413\n",
      "Yes    DSL                 459\n",
      "       Fiber optic        1297\n",
      "       No                  113\n",
      "dtype: int64\n",
      "\n",
      "La probabilidad de que un cliente se vaya dado que tiene DSL es de: 0.18959107806691447\n",
      "La probabilidad de que un cliente se vaya dado que tiene fibra optica es de: 0.4189276485788114\n",
      "La probabilidad de que un cliente se vaya dado que no tiene servicios de internet es de: 0.07404980340760157\n"
     ]
    }
   ],
   "source": [
    "# Se crea la tabla que representa la cantidad de clientes que se van y los servicios de internet, y se printea.\n",
    "fuga_and_internet = info.groupby(['Churn','InternetService']).size()\n",
    "print(fuga_and_internet)\n",
    "\n",
    "\"\"\"\n",
    "Se calcula la probabilidad de tener DSL, luego se calcula la probabilidad de tener DSL e irse, y \n",
    "finalmente se calcula la probabilidad de que el cliente se vaya dado que tiene DSL.\n",
    "\"\"\"\n",
    "prob_DSL = (fuga_and_internet[0]+fuga_and_internet[3])/total \n",
    "DSL_inter_fuga = fuga_and_internet[3]/total\n",
    "fuga_dado_DSL = DSL_inter_fuga/prob_DSL\n",
    "print(\"\\nLa probabilidad de que un cliente se vaya dado que tiene DSL es de:\", fuga_dado_DSL)\n",
    "\n",
    "\"\"\"\n",
    "Se calcula la probabilidad de tener fibra e irse, y \n",
    "con la probabilidad de tener fibra que ya se habia calculado, se calcula la probabilidad de que el cliente \n",
    "se vaya dado que tiene fibra.\n",
    "\"\"\"\n",
    "fibra_inter_fuga = fuga_and_internet[4]/total\n",
    "fuga_dado_fibra = fibra_inter_fuga/prob_fibra\n",
    "print(\"La probabilidad de que un cliente se vaya dado que tiene fibra optica es de:\", fuga_dado_fibra)\n",
    "\n",
    "\"\"\"\n",
    "Se calcula la probabilidad de no tener servicios de internet, luego se calcula la probabilidad de no tener \n",
    "servicios de internet e irse, y finalmente se calcula la probabilidad de que el cliente se vaya dado que no\n",
    "tiene servicios de internet8.\n",
    "\"\"\"\n",
    "prob_no = (fuga_and_internet[2]+fuga_and_internet[5])/total\n",
    "no_inter_fuga = fuga_and_internet[5]/total\n",
    "fuga_dado_no = no_inter_fuga/prob_no\n",
    "print(\"La probabilidad de que un cliente se vaya dado que no tiene servicios de internet es de:\", fuga_dado_no)"
   ]
  },
  {
   "cell_type": "markdown",
   "metadata": {},
   "source": [
    "Observando las probabilidades condicionales calculadas, se puede concluir de que el servicio de fibra optica es más propenso a la fuga que el de DSL. \n",
    "Además, se puede ver que aquellos clientes sin servicio de internet son mucho menos propensos a la fuga."
   ]
  },
  {
   "cell_type": "markdown",
   "metadata": {},
   "source": [
    ">d) Utilizando criterios de probabilidad condicional, ¿es el cargo mensual un buen predictor de la fuga? y ¿es la fuga un buen predictor del cargo mensual de un cliente?"
   ]
  },
  {
   "cell_type": "code",
   "execution_count": 6,
   "metadata": {},
   "outputs": [
    {
     "name": "stdout",
     "output_type": "stream",
     "text": [
      "La probabilidad de que el cliente se vaya dado que su cargo mensual es bajo la mediana es de: 0.1793123046319977\n",
      "La probabilidad de que el cliente se vaya dado que su cargo mensual es sobre la mediana es de: 0.35130533484676507\n",
      "La probabilidad de que el cliente no se vaya dado que su cargo mensual es bajo la mediana es de: 0.8206876953680022\n",
      "La probabilidad de que el cliente no se vaya dado que su cargo mensual es sobre la mediana es de: 0.6486946651532349\n",
      "La probabilidad de que su cargo mensual sea bajo la mediana dado que se fue es de: 0.33761369716425893\n",
      "La probabilidad de que su cargo mensual sea bajo la mediana dado que no se fue es de: 0.23927328952454582\n",
      "La probabilidad de que su cargo mensual sea sobre la mediana dado que se fue es de: 0.6623863028357411\n",
      "La probabilidad de que su cargo mensual sea sobre la mediana dado que no se fue es de: 0.7607267104754541\n"
     ]
    }
   ],
   "source": [
    "#Se obtienen la cantidad de clientes que cumplen ambas condiciones segun cada caso\n",
    "# bajo: costo mensual bajo la mediana\n",
    "# sobre: costo mensual sobre la mediana\n",
    "# yes: se fue\n",
    "# no: no se fue\n",
    "bajo_and_yes = len(info[(info.MonthlyCharges < 70.35) & (info.Churn == 'Yes')])\n",
    "bajo_and_no =  len(info[(info.MonthlyCharges < 70.35) & (info.Churn == 'No')])\n",
    "sobre_and_yes =  len(info[(info.MonthlyCharges >= 70.35) & (info.Churn == 'Yes')])\n",
    "sobre_and_no =  len(info[(info.MonthlyCharges >= 70.35) & (info.Churn == 'No')])\n",
    "total = bajo_and_yes + bajo_and_no + sobre_and_no + sobre_and_yes\n",
    "\n",
    "#Se calculan las probabilidades respectivamente con la definicion de probabilidad condicional\n",
    "fuga_dado_bajo = (bajo_and_yes/total)/((bajo_and_yes+bajo_and_no)/total) \n",
    "fuga_dado_sobre = (sobre_and_yes/total)/((sobre_and_yes+sobre_and_no)/total)\n",
    "nofuga_dado_bajo = 1-fuga_dado_bajo\n",
    "nofuga_dado_sobre = 1-fuga_dado_sobre\n",
    "\n",
    "print(\"La probabilidad de que el cliente se vaya dado que su cargo mensual es bajo la mediana es de:\", fuga_dado_bajo)\n",
    "print(\"La probabilidad de que el cliente se vaya dado que su cargo mensual es sobre la mediana es de:\", fuga_dado_sobre)\n",
    "print(\"La probabilidad de que el cliente no se vaya dado que su cargo mensual es bajo la mediana es de:\", nofuga_dado_bajo)\n",
    "print(\"La probabilidad de que el cliente no se vaya dado que su cargo mensual es sobre la mediana es de:\", nofuga_dado_sobre)\n",
    "\n",
    "#Se calculan las probabilidades respectivamente con la definicion de probabilidad condicional\n",
    "bajo_dado_fuga = (bajo_and_yes/total)/((bajo_and_yes+sobre_and_yes)/total) \n",
    "bajo_dado_nofuga = (sobre_and_yes/total)/((bajo_and_no+sobre_and_no)/total)\n",
    "sobre_dado_fuga = 1-bajo_dado_fuga\n",
    "sobre_dado_nofuga = 1-bajo_dado_nofuga\n",
    "\n",
    "print(\"La probabilidad de que su cargo mensual sea bajo la mediana dado que se fue es de:\", bajo_dado_fuga)\n",
    "print(\"La probabilidad de que su cargo mensual sea bajo la mediana dado que no se fue es de:\", bajo_dado_nofuga)\n",
    "print(\"La probabilidad de que su cargo mensual sea sobre la mediana dado que se fue es de:\", sobre_dado_fuga)\n",
    "print(\"La probabilidad de que su cargo mensual sea sobre la mediana dado que no se fue es de:\", sobre_dado_nofuga)"
   ]
  },
  {
   "cell_type": "markdown",
   "metadata": {},
   "source": [
    "Dado que las probabilidades son bastante lejanas del 0.5 en ambos casos, se puede concluir de que ambos son buenos predictores."
   ]
  },
  {
   "cell_type": "markdown",
   "metadata": {},
   "source": [
    ">e) Utilizando criterios de probabilidad condicional, ¿es el cargo mensual un buen predictor de la estadia de un cliente? y ¿es la estadia del cliente un buen predictor del cargo mensual de este?\n",
    "\n",
    "*Estadia*: tenure"
   ]
  },
  {
   "cell_type": "code",
   "execution_count": 8,
   "metadata": {},
   "outputs": [
    {
     "name": "stdout",
     "output_type": "stream",
     "text": [
      "La probabilidad de que el cliente tenga una estadia bajo la mediana dado que su cargo mensual esta bajo la mediana es de : 0.5865027166142408\n",
      "\n",
      "La probabilidad de que el cliente tenga una estadia bajo la mediana dado que su cargo mensual esta sobre la mediana es de : 0.5783981951494643\n",
      "\n",
      "La probabilidad de que el cliente tenga una estadia sobre la mediana dado que su cargo mensual esta bajo la mediana es de : 0.4134972833857592\n",
      "\n",
      "La probabilidad de que el cliente tenga una estadia sobre la mediana dado que su cargo mensual esta sobre la mediana es de : 0.42160180485053567\n",
      "\n",
      "\n",
      "\n",
      "La probabilidad de que el cliente tenga un cargo mensual bajo la mediana dado que su estadia esta bajo la mediana es de : 0.5828360329639103\n",
      "\n",
      "La probabilidad de que el cliente tenga un cargo mensual bajo la mediana dado que su estadia esta sobre la mediana es de : 0.5820090805902384\n",
      "\n",
      "La probabilidad de que el cliente tenga un cargo mensual sobre la mediana dado que su estadia esta bajo la mediana es de : 0.4171639670360897\n",
      "\n",
      "La probabilidad de que el cliente tenga un cargo mensual sobre la mediana dado que su estadia esta sobre la mediana es de : 0.41799091940976163\n"
     ]
    }
   ],
   "source": [
    "#Se obtienen la cantidad de clientes que cumplen ambas condiciones segun cada caso\n",
    "# bE: estadia bajo la mediana\n",
    "# sE: estadia sobre la mediana\n",
    "# bM: costo mensual bajo la mediana\n",
    "# sM: costo mensual sobre la mediana\n",
    "bE_and_bM = len(info[(info.MonthlyCharges < 70.35) & (info.tenure < 29)])\n",
    "bE_and_sM = len(info[(info.MonthlyCharges < 70.35) & (info.tenure >= 29)])\n",
    "sE_and_bM = len(info[(info.MonthlyCharges >= 70.35) & (info.tenure < 29)])\n",
    "sE_and_sM = len(info[(info.MonthlyCharges >= 70.35) & (info.tenure >= 29)])\n",
    "\n",
    "#Se calculan las probabilidades respectivamente con la definicion de probabilidad condicional\n",
    "bE_dado_bM = (bE_and_bM/total)/((bE_and_bM+sE_and_bM)/total)\n",
    "bE_dado_sM = (bE_and_bM/total)/((bE_and_sM+sE_and_sM)/total)\n",
    "sE_dado_bM = 1-bE_dado_bM\n",
    "sE_dado_sM = 1-bE_dado_sM\n",
    "\n",
    "print(\"La probabilidad de que el cliente tenga una estadia bajo la mediana dado que su cargo mensual esta bajo la mediana es de :\", bE_dado_bM)\n",
    "print(\"\\nLa probabilidad de que el cliente tenga una estadia bajo la mediana dado que su cargo mensual esta sobre la mediana es de :\", bE_dado_sM)\n",
    "print(\"\\nLa probabilidad de que el cliente tenga una estadia sobre la mediana dado que su cargo mensual esta bajo la mediana es de :\", sE_dado_bM)\n",
    "print(\"\\nLa probabilidad de que el cliente tenga una estadia sobre la mediana dado que su cargo mensual esta sobre la mediana es de :\", sE_dado_sM)\n",
    "\n",
    "#Se calculan las probabilidades respectivamente con la definicion de probabilidad condicional\n",
    "bM_dado_bE = (bE_and_bM/total)/((bE_and_bM+bE_and_sM)/total)\n",
    "bM_dado_sE = (bE_and_bM/total)/((sE_and_bM+sE_and_sM)/total)\n",
    "sM_dado_bE = 1-bM_dado_bE\n",
    "sM_dado_sE = 1-bM_dado_sE\n",
    "\n",
    "print(\"\\n\\n\\nLa probabilidad de que el cliente tenga un cargo mensual bajo la mediana dado que su estadia esta bajo la mediana es de :\", bM_dado_bE)\n",
    "print(\"\\nLa probabilidad de que el cliente tenga un cargo mensual bajo la mediana dado que su estadia esta sobre la mediana es de :\", bM_dado_sE)\n",
    "print(\"\\nLa probabilidad de que el cliente tenga un cargo mensual sobre la mediana dado que su estadia esta bajo la mediana es de :\", sM_dado_bE)\n",
    "print(\"\\nLa probabilidad de que el cliente tenga un cargo mensual sobre la mediana dado que su estadia esta sobre la mediana es de :\", sM_dado_sE)\n",
    "\n"
   ]
  },
  {
   "cell_type": "markdown",
   "metadata": {},
   "source": [
    "Dado que todas las probabilidades están cerca del 0.5, se puede concluir que ninguno de los dos son buenos predictores. "
   ]
  },
  {
   "cell_type": "markdown",
   "metadata": {},
   "source": [
    "## 2. Máquina de Rube Goldberg\n",
    "\n",
    "Una máquina de Rube Goldberg es un artefacto extremadamente complejo que realiza una tarea fácil. Usted, en su tiempo libre, decidió construir uno de estos artefactos que consta de 5 etapas:\n",
    "\n",
    "<ol>\n",
    "    <li>Lanza una bolita que rueda por un riel con una probabilidad de $\\dfrac{2}{5}$ de caerse</li>\n",
    "    <li>Después de rodar por el riel cae en una catapulta que la lanza en la dirección correcta el $60\\%$ de las veces</li>\n",
    "    <li>Impacta contra una tela que le frena el impulso y la hace caer sobre el interruptor de un ventilador, el $80\\%$ de las veces es capaz de activar el ventilador</li>\n",
    "    <li>Cuando el ventilador se activa empuja un barco de juguete en una fuente con agua hasta el otro extremo de esta para empujar otra bolita, el barco llega con suficiente impulso con una probabilidad de $\\dfrac{6}{9}$</li>\n",
    "    <li>Esta bolita rueda por otro riel y cae sobre el control remoto que enciende su televisor, en un $30\\%$ de las veces logra encenderlo</li>\n",
    "</ol>\n",
    "\n",
    ">a) Usted quiere subir su máquina de Rube Goldberg a Youtube™, estime cuántas veces (en promedio) tendrá que poner en marcha su máquina hasta que resulte por primera vez en video. A su vez, haga un gráfico mostrando la probabilidad de no tener éxito en función del número de puestas en marcha de la máquina y comente."
   ]
  },
  {
   "cell_type": "code",
   "execution_count": 6,
   "metadata": {},
   "outputs": [
    {
     "name": "stdout",
     "output_type": "stream",
     "text": [
      "17.4171\n"
     ]
    }
   ],
   "source": [
    "from random import randint, uniform,random\n",
    "import matplotlib.pyplot as plt\n",
    "\n",
    "probfallas=[0.4,0.4,0.2,0.3333333333,0.7]\n",
    "fallas=[40,40,20,33,70]\n",
    "\n",
    "i1=0\n",
    "intentos=[]\n",
    "#                                            Cantidad de veces promedio\n",
    "#-------------------------------------------------------------------------------------------------------------------------\n",
    "#Se procede a realizar 10000 lanzamientos de 100 bolitas, cada lanzamiento de cien bolitas se detiene en el punto en que una\n",
    "#bolita logra el éxito, y por cada lanzamiento se cuentan cuantos intentos son necesarios para lograr el éxito.\n",
    "while(i1<10000): #10000 lanzamientos\n",
    "    \n",
    "    i=1\n",
    "    while(i<100):#100 bolitas\n",
    "        if(randint(0,100)<=40):\n",
    "            i+=1\n",
    "        else:\n",
    "            if(randint(0,100)<=40):\n",
    "                i+=1\n",
    "            else:\n",
    "                if(randint(0,100)<=20):\n",
    "                    i+=1\n",
    "                else:\n",
    "                    if(randint(0,100)<=33):\n",
    "                        i+=1\n",
    "                    else:\n",
    "                        if(randint(0,100)<=70):\n",
    "                            i+=1\n",
    "                        else:\n",
    "                            intentos.append(i)\n",
    "                            break\n",
    "    i1+=1\n",
    "sumalista=0\n",
    "#Se realiza el promedio entre todos los elementos y la cantidad de lanzamientos de cien bolitas.\n",
    "for elemento in intentos:\n",
    "    sumalista+=elemento\n",
    "print(sumalista/10000)\n",
    "\n",
    "#--------------------------------------------------------------------------------------------------------------------------\n",
    "\n",
    "\n"
   ]
  },
  {
   "cell_type": "code",
   "execution_count": 11,
   "metadata": {},
   "outputs": [
    {
     "name": "stderr",
     "output_type": "stream",
     "text": [
      "No handles with labels found to put in legend.\n"
     ]
    },
    {
     "data": {
      "image/png": "[encoded data removed]",
      "text/plain": [
       "<Figure size 864x648 with 1 Axes>"
      ]
     },
     "metadata": {
      "needs_background": "light"
     },
     "output_type": "display_data"
    }
   ],
   "source": [
    "casos=[1,100,200,300,400,500,600,700,800,1000,1100,1200,1300,1400,1500,1600,1700,1800,1900,2000]\n",
    "exitos=[]\n",
    "#Se realiza una lista, cada elemento de la lista significa una cantidad de bolitas las cuales seran lanzadas en el while.\n",
    "#Se guarda cada éxito de cada ronda de lanzamientos y se calcula la probabilidad de fallo.\n",
    "for i in casos:\n",
    "    i1=0\n",
    "    cont=0\n",
    "    while(i1<i):\n",
    "        if(randint(0,100)<=40):\n",
    "            i1+=1\n",
    "        else:\n",
    "            if(randint(0,100)<=40):\n",
    "                i1+=1\n",
    "            else:\n",
    "                if(randint(0,100)<=20):\n",
    "                    i1+=1\n",
    "                else:\n",
    "                    if(randint(0,100)<=33):\n",
    "                        i1+=1\n",
    "                    else:\n",
    "                        if(randint(0,100)<=70):\n",
    "                            i1+=1\n",
    "                        else:\n",
    "                            cont+=1\n",
    "    exitos.append(cont)\n",
    "i=0\n",
    "pf=[]\n",
    "#Finalmente se procede a realizar un gráfico de dispersión que representa la cantidad de bolitas tiradas v/s su probabilidad\n",
    "#de fallo\n",
    "while(i<20):\n",
    "    pf.append(1-(exitos[i]/casos[i]))\n",
    "    i+=1\n",
    "plt.figure(figsize=(12,9))\n",
    "plt.xlabel(\"Intentos\", fontsize=16)  \n",
    "plt.ylabel(\"Probabilidad\", fontsize=16) \n",
    "plt.legend()\n",
    "plt.scatter(casos, pf)\n",
    "plt.show()\n",
    "    \n",
    "\n"
   ]
  },
  {
   "cell_type": "markdown",
   "metadata": {},
   "source": [
    "En promedio, se necesitaran de por lo menos entre 17 y 18 pruebas para que se pueda lograr grabar el proceso completo de una máquina de Rude Goldberg.\n",
    "Por otro lado, el gráfico de dispersión nos señala que las probabilidades pueden fluctuar bastante al comienzo (entre 1 y 400 intentos), para luego comenzar a concentrarse entre 0.93 y 0.95. Éste comportamiento se puede empezar a notar después de los 1000 intentos, y se identifica una tendencia a las probabilidades a acercarse a 0.94."
   ]
  },
  {
   "cell_type": "markdown",
   "metadata": {},
   "source": [
    "> b) Si usted cuenta con 1000 bolitas, estime tanto téorica como empíricamente cuántas bolitas fallan en cada etapa. Compare sus resultados obtenidos.\n",
    "\n",
    "*Recuerde que habrá una cantidad de bolitas que no fallarán*"
   ]
  },
  {
   "cell_type": "code",
   "execution_count": 104,
   "metadata": {},
   "outputs": [
    {
     "name": "stdout",
     "output_type": "stream",
     "text": [
      "--------------------------------------Empíricamente--------------------------------------------\n",
      "Falló en la parte 1:  428\n",
      "Falló en la parte 2:  220\n",
      "Falló en la parte 3:  70\n",
      "Falló en la parte 4:  93\n",
      "Falló en la parte 5:  131\n",
      "No fallan:  58\n"
     ]
    }
   ],
   "source": [
    "part1=0\n",
    "part2=0\n",
    "part3=0\n",
    "part4=0\n",
    "part5=0\n",
    "nofalla=0\n",
    "i=0\n",
    "#Se procede a lanzar mil bolitas, en las cuales se procede a contar cuantas veces falla cada bolita en cada etapa\n",
    "#Se lanza un número al azar y se aplican restricciones para que su porcentaje de acierto respete la máquina.\n",
    "while(i<1000):\n",
    "        if(randint(0,100)<=40):\n",
    "            part1+=1\n",
    "        else:\n",
    "            if(randint(0,100)<=40):\n",
    "                part2+=1\n",
    "            else:\n",
    "                if(randint(0,100)<=20):\n",
    "                    part3+=1\n",
    "                else:\n",
    "                    if(randint(0,100)<=33):\n",
    "                        part4+=1\n",
    "                    else:\n",
    "                        if(randint(0,100)<=70):\n",
    "                            part5+=1\n",
    "                        else:\n",
    "                            nofalla+=1\n",
    "        i+=1\n",
    "print(\"--------------------------------------Empíricamente--------------------------------------------\")\n",
    "print(\"Falló en la parte 1: \",part1)\n",
    "print(\"Falló en la parte 2: \",part2)\n",
    "print(\"Falló en la parte 3: \",part3)\n",
    "print(\"Falló en la parte 4: \",part4)\n",
    "print(\"Falló en la parte 5: \",part5)\n",
    "print(\"No fallan: \",nofalla)"
   ]
  },
  {
   "cell_type": "code",
   "execution_count": 101,
   "metadata": {},
   "outputs": [
    {
     "name": "stdout",
     "output_type": "stream",
     "text": [
      "-----------------------------Teoricamente------------------------------\n",
      "Falló en la parte 1:  400.0\n",
      "Falló en la parte 2:  240.0\n",
      "Falló en la parte 3:  72.0\n",
      "Falló en la parte 4:  95.999999904\n",
      "Falló en la parte 5:  134.40000006719998\n",
      "No fallan:  57.600000028800025\n"
     ]
    }
   ],
   "source": [
    "print(\"-----------------------------Teoricamente------------------------------\")\n",
    "probfallas=[0.4,0.4,0.2,0.3333333333,0.7]\n",
    "parte1=1000*0.4\n",
    "parte2=(1000-parte1)*0.4\n",
    "parte3=(1000-parte1-parte2)*0.2\n",
    "parte4=(1000-parte1-parte2-parte3)*0.333333333\n",
    "parte5=(1000-parte1-parte2-parte3-parte4)*0.7\n",
    "nofalla=1000-parte1-parte2-parte3-parte4-parte5\n",
    "print(\"Falló en la parte 1: \",parte1)\n",
    "print(\"Falló en la parte 2: \",parte2)\n",
    "print(\"Falló en la parte 3: \",parte3)\n",
    "print(\"Falló en la parte 4: \",parte4)\n",
    "print(\"Falló en la parte 5: \",parte5)\n",
    "print(\"No fallan: \",nofalla)\n"
   ]
  },
  {
   "cell_type": "markdown",
   "metadata": {},
   "source": [
    "Como podemos notar, lo valores empíricos y los valores teoricos son esperablemente cercanos.\n",
    "* Para la parte 1 se estiman que 400 de las 1000 bolitas fallen teoricamente. Empíricamente fallan 428, esto representa un 6% de error entre los dos valores.\n",
    "* Para la parte 2 se estiman que 240 de las 1000 bolitas fallen teoricamente. Empíricamente fallan 220, esto representa un 8% de error entre los dos valores.\n",
    "* Para la parte 3 se estiman que 72 de las 1000 bolitas fallen teoricamente. Empíricamente fallan 70, esto representa un 2% de error entre los dos valores.\n",
    "* Para la parte 4 se estiman que 96 de las 1000 bolitas fallen teoricamente. Empíricamente fallan 93, esto representa un 3% de error entre los dos valores.\n",
    "* Para la parte 5 se estiman que 134 de las 1000 bolitas fallen teoricamente. Empíricamente fallan 131, esto representa un 2% de error entre los dos valores.\n",
    "* Para el resto se estiman que 57 de las 1000 bolitas no fallen teoricamente. Empíricamente fallan 58, esto representa un 1% de error entre los dos valores.\n",
    "\n",
    "&nbsp;\n",
    "Si se realiza la demostración empírica varias veces, el error y las cantidad obtenidas empíricamente van a cambiar, pero los valores aún así se mantendran cercanos al valor teórico.\n",
    "A continuación, se realizará la demostración empírica dos veces más."
   ]
  },
  {
   "cell_type": "code",
   "execution_count": 105,
   "metadata": {},
   "outputs": [
    {
     "name": "stdout",
     "output_type": "stream",
     "text": [
      "--------------------------------------Empíricamente--------------------------------------------\n",
      "Falló en la parte 1:  389\n",
      "Falló en la parte 2:  243\n",
      "Falló en la parte 3:  64\n",
      "Falló en la parte 4:  109\n",
      "Falló en la parte 5:  139\n",
      "No fallan:  56\n"
     ]
    }
   ],
   "source": [
    "part1=0\n",
    "part2=0\n",
    "part3=0\n",
    "part4=0\n",
    "part5=0\n",
    "nofalla=0\n",
    "i=0\n",
    "while(i<1000):\n",
    "        if(randint(0,100)<=40):\n",
    "            part1+=1\n",
    "        else:\n",
    "            if(randint(0,100)<=40):\n",
    "                part2+=1\n",
    "            else:\n",
    "                if(randint(0,100)<=20):\n",
    "                    part3+=1\n",
    "                else:\n",
    "                    if(randint(0,100)<=33):\n",
    "                        part4+=1\n",
    "                    else:\n",
    "                        if(randint(0,100)<=70):\n",
    "                            part5+=1\n",
    "                        else:\n",
    "                            nofalla+=1\n",
    "        i+=1\n",
    "print(\"--------------------------------------Empíricamente--------------------------------------------\")\n",
    "print(\"Falló en la parte 1: \",part1)\n",
    "print(\"Falló en la parte 2: \",part2)\n",
    "print(\"Falló en la parte 3: \",part3)\n",
    "print(\"Falló en la parte 4: \",part4)\n",
    "print(\"Falló en la parte 5: \",part5)\n",
    "print(\"No fallan: \",nofalla)"
   ]
  },
  {
   "cell_type": "markdown",
   "metadata": {},
   "source": [
    "Mientras que teóricamente:\n",
    "* Falló en la parte 1:  400\n",
    "* Falló en la parte 2:  240\n",
    "* Falló en la parte 3:  72\n",
    "* Falló en la parte 4:  96\n",
    "* Falló en la parte 5:  134\n",
    "* No fallan:  57\n"
   ]
  },
  {
   "cell_type": "code",
   "execution_count": 106,
   "metadata": {},
   "outputs": [
    {
     "name": "stdout",
     "output_type": "stream",
     "text": [
      "--------------------------------------Empíricamente--------------------------------------------\n",
      "Falló en la parte 1:  410\n",
      "Falló en la parte 2:  255\n",
      "Falló en la parte 3:  71\n",
      "Falló en la parte 4:  99\n",
      "Falló en la parte 5:  111\n",
      "No fallan:  54\n"
     ]
    }
   ],
   "source": [
    "part1=0\n",
    "part2=0\n",
    "part3=0\n",
    "part4=0\n",
    "part5=0\n",
    "nofalla=0\n",
    "i=0\n",
    "while(i<1000):\n",
    "        if(randint(0,100)<=40):\n",
    "            part1+=1\n",
    "        else:\n",
    "            if(randint(0,100)<=40):\n",
    "                part2+=1\n",
    "            else:\n",
    "                if(randint(0,100)<=20):\n",
    "                    part3+=1\n",
    "                else:\n",
    "                    if(randint(0,100)<=33):\n",
    "                        part4+=1\n",
    "                    else:\n",
    "                        if(randint(0,100)<=70):\n",
    "                            part5+=1\n",
    "                        else:\n",
    "                            nofalla+=1\n",
    "        i+=1\n",
    "print(\"--------------------------------------Empíricamente--------------------------------------------\")\n",
    "print(\"Falló en la parte 1: \",part1)\n",
    "print(\"Falló en la parte 2: \",part2)\n",
    "print(\"Falló en la parte 3: \",part3)\n",
    "print(\"Falló en la parte 4: \",part4)\n",
    "print(\"Falló en la parte 5: \",part5)\n",
    "print(\"No fallan: \",nofalla)"
   ]
  },
  {
   "cell_type": "markdown",
   "metadata": {},
   "source": [
    "Mientras que teóricamente:\n",
    "* Falló en la parte 1:  400\n",
    "* Falló en la parte 2:  240\n",
    "* Falló en la parte 3:  72\n",
    "* Falló en la parte 4:  96\n",
    "* Falló en la parte 5:  134\n",
    "* No fallan:  57"
   ]
  },
  {
   "cell_type": "markdown",
   "metadata": {},
   "source": [
    "> c) Determine la función de probabilidad que rige este fenómeno según todos los estados posibles de la bolita"
   ]
  },
  {
   "cell_type": "markdown",
   "metadata": {},
   "source": [
    "La función de probabilidad se realizó de la siguiente forma:\n",
    "* Sea X la etapa en la cual falla la máquina de Rude Goldberg. Bajo esta consideración X puede tomar los valores de {0 , 1 , 2 , 3 , 4 , 5}, considerando el 0 como el éxito de la bolita (que no falle en ninguna etapa).\n",
    "* Por lo tanto, la función probabilidad queda expresada cómo:\n",
    "\n",
    "f(x)=P(X=x)=\n",
    "\n",
    "             \\---------------\\\n",
    "             | 0.0576    x=0\n",
    "             | 0.4       x=1\n",
    "             | 0.24      x=2       \n",
    "             | 0.072     x=3\n",
    "             | 0.096     x=4\n",
    "             | 0.1344    x=5\n",
    "             \\---------------\\\n",
    "      \n",
    "Esta función se realizó multiplicando las probabilidades de éxito con las probabilidades de fracaso.\n",
    "Ejemplo:\n",
    "* Para obtener la probabilidad de que la bolita falle en la etapa tres, se debe multiplicar la probabilidad que pase la primera etapa, por la probabilidad de que acierte la segunda y por la probabilidad que falle la tercera, de ésta forma multiplicamos 0.6\\*0.6\\*0.2 y se obtiene 0.072 como lo indica la función.\n",
    "Naturalmente, para que ésta función sea válida la suma de todos los posibles valora de X debe ser 1, por lo que comprueba a continuación:\n",
    "\n"
   ]
  },
  {
   "cell_type": "code",
   "execution_count": 118,
   "metadata": {},
   "outputs": [
    {
     "name": "stdout",
     "output_type": "stream",
     "text": [
      "0.9999999999999999\n",
      "1.0\n"
     ]
    }
   ],
   "source": [
    "probfallas=[0.4,0.4,0.2,0.3333333333,0.7]\n",
    "#La suma de todas las probabilidades de la función de probabilidad.\n",
    "probaciertos=[0.6,0.6,0.8,2/3,0.3]\n",
    "print(0.4 + 0.6*0.4 + 0.6*0.6*0.2 + 0.6*0.6*0.8*(1/3)+0.6*0.6*0.8*(2/3)*0.7+0.6*0.6*0.8*(2/3)*0.3)\n",
    "print(0.06+0.4+0.24+0.07+0.1+0.13)\n",
    "\n"
   ]
  },
  {
   "cell_type": "markdown",
   "metadata": {},
   "source": [
    "Efectivamente, se comprueba que es uno."
   ]
  },
  {
   "cell_type": "markdown",
   "metadata": {},
   "source": [
    ">d) Genere 1000 valores aleatorios que sigan la función de probabilidad que encontró en c), haga un histograma y compare con lo obtenido en b)"
   ]
  },
  {
   "cell_type": "code",
   "execution_count": 12,
   "metadata": {},
   "outputs": [
    {
     "name": "stdout",
     "output_type": "stream",
     "text": [
      "No fallaron:  56\n",
      "Fallaron en la etapa 1:  407\n",
      "Fallaron en la etapa 2:  250\n",
      "Fallaron en la etapa 3:  72\n",
      "Fallaron en la etapa 4:  95\n",
      "Fallaron en la etapa 5:  120\n"
     ]
    },
    {
     "data": {
      "image/png": "[encoded data removed]",
      "text/plain": [
       "<Figure size 432x288 with 1 Axes>"
      ]
     },
     "metadata": {
      "needs_background": "light"
     },
     "output_type": "display_data"
    }
   ],
   "source": [
    "from random import randint, uniform,random\n",
    "import matplotlib.pyplot as plt\n",
    "i=0\n",
    "c0=0\n",
    "c1=0\n",
    "c2=0\n",
    "c3=0\n",
    "c4=0\n",
    "c5=0\n",
    "#Se proceden a realizar mil lanzamientos de bolitas, por cada bolita se lanza un número al azar y, dependiendo su valor, \n",
    "#Se le asigna la etapa en la cual falló o acertó.\n",
    "while(i<1000):\n",
    "    x=randint(0,99)\n",
    "    if(0<=x<6):\n",
    "        c0+=1\n",
    "    if(6<=x<46):\n",
    "        c1+=1\n",
    "    if(46<=x<70):\n",
    "        c2+=1\n",
    "    if(70<=x<77):\n",
    "        c3+=1\n",
    "    if(77<=x<87):\n",
    "        c4+=1\n",
    "    if(87<=x<100):\n",
    "        c5+=1\n",
    "    i+=1\n",
    "#Con los datos obtenidos, se procede a realizar un histograma\n",
    "lista=[c0,c1,c2,c3,c4,c5]\n",
    "lista2=[0,1,2,3,4,5]\n",
    "plt.bar(lista2,lista,align='center') \n",
    "plt.xlabel('Etapas')\n",
    "plt.ylabel('Cantidad de fallas')\n",
    "print(\"No fallaron: \",c0)\n",
    "print(\"Fallaron en la etapa 1: \",c1)\n",
    "print(\"Fallaron en la etapa 2: \",c2)\n",
    "print(\"Fallaron en la etapa 3: \",c3)\n",
    "print(\"Fallaron en la etapa 4: \",c4)\n",
    "print(\"Fallaron en la etapa 5: \",c5)\n",
    "\n",
    "\n",
    "    "
   ]
  },
  {
   "cell_type": "markdown",
   "metadata": {},
   "source": [
    "Los resultados obtenidos son similares a los obtenidos en el inciso b), la función probabilidad y el método estandar presentan la misma tendencia en sus resultados, por lo que se reconoce que ambos acercamientos al problema presenta resultados correctos. Por otro lado, mirando el histograma podemos notar que la mayor de cantidad de fallos lo presenta la etapa uno y la etapa dos, el resto se reparte en la etapa tres, cuatro y cinco. La etapa cero presenta la cantidad de éxitos, el cual presenta la menor cantidad respecto al resto de etapas."
   ]
  },
  {
   "cell_type": "markdown",
   "metadata": {},
   "source": [
    "## 3. Perritos Enfermos\n",
    "\n",
    "Usted trabaja en un refugio de animales que se especializa en recibir perros, además de contar con el equipo necesario para tratar con enfermedades que estos puedan presentar. Viendo las noticias se enteró que un virus sumamente peligroso para los perros se está expandiendo rápidamente por la zona y sospecha que algunos de los perros bajo su cuidado pueden estar infectados pero, no presentan un síntoma de momento. Para suerte suya este virus tiene cura hace tiempo y cuenta con el equipo para analizar muestras de saliva para detectar qué perro está infectado con el virus o no.\n",
    "\n",
    "Usted tiene 500 perros, para no hacer la prueba 1 a 1 ha decidido juntar muestras de saliva en grupos de $K$ perros (con $K$ siendo un divisor de 500), y en caso de que el examen arroje positivo hará la prueba 1 a 1 del grupo. Asuma que 8 perros están infectados, pero usted no sabe esto a priori.\n",
    "\n",
    ">a) ¿Es posible determinar **teóricamente** un $K$ tal que la cantidad de veces que se realiza la prueba sea la menor posible? De ser así, encuentre dicho K. ¿Qué distribución es comparable a este fenómeno?"
   ]
  },
  {
   "cell_type": "markdown",
   "metadata": {},
   "source": [
    "La distribución de probabilidad discreta que más se asemeja a éste fenómeno es la distribución hipergeométrica. La distribución hipergeométrica representa muestreos aleatorios sin reemplazo. A grandes rasgos, la distribución modela que si se tiene N elementos de los cuales a pertenecen a la categoria A, y N-a pertenece a la categoria A complemento, la probabilidad de obtener x (0=<x=<a) elementos de la categoría A e:\n",
    "\n",
    "P(X=x)=$\\frac{{d}\\choose{x}}{{N}\\choose{n}}$* ${N-a}\\choose{n-x}$\n",
    "\n",
    "Con:  \n",
    "\n",
    "N:El tamaño de la población  \n",
    "\n",
    "\n",
    "n:El tamaño de la muestra extraida  \n",
    "\n",
    "\n",
    "d:El número de la población original que pertenece al grupo deseado  \n",
    "\n",
    "\n",
    "x:Es el número de la muestra que pertenecen a dicha categoria  \n",
    "\n",
    "Ahora, se procede a realizar un función que representa la cantida de revisiones realizadas en función de los perritos enfermos y la extracción de grupos. Para que ésta función tenga sentido se realiza el siguiente supuesto:\n",
    "* La función tiene sentido para una cantidad de perritos enfermos debe ser  menor que el de la cantidad de grupos.  \n",
    "* La distribución de los perritos enfermos es equiprobable dentro de cada uno de los grupos de K   \n",
    "De esta forma, se define la función de \"veces realizada la prueba\" como:\n",
    "\n",
    "F(K)= $\\frac{500}{k} + K*E$\n",
    "\n",
    "Con:  \n",
    "K: El tamaño del grupo  \n",
    "E: La cantidad de perritos enfermos\n",
    "\n",
    "Para sacar el mínimo de K se deriva la función y se obtiene:\n",
    "$K= \\sqrt{\\frac{500}{E}}$  \n",
    "Ahora, si se desea estandarizar este valor para todos los valores de E, se deduce que, si la cantidad de E es mayor a la cantidad de grupos, se obtiene la siguiente ecuación:\n",
    "\n",
    "F(K)= $\\frac{500}{k} + K*\\frac{500}{k}$\n",
    "Derivando se obtiene:\n",
    "K=1, lo cuál es lógico, ya que para ese caso no en cuantos grupos se divida, se terminarán revisando los 500 perritos eventualmente.\n",
    "\n",
    "\n",
    "\n",
    "\n",
    "\n",
    "\n",
    "\n"
   ]
  },
  {
   "cell_type": "markdown",
   "metadata": {},
   "source": [
    ">b) Encuentre **empíricamente** un valor de $K$ que minimice la cantidad de veces que se realiza la prueba y compare con el obtenido en b)"
   ]
  },
  {
   "cell_type": "code",
   "execution_count": 9,
   "metadata": {},
   "outputs": [
    {
     "name": "stdout",
     "output_type": "stream",
     "text": [
      "La cantidad de veces que k = 2 minimizó la cantidad de pruebas es: 0\n",
      "\n",
      "La cantidad de veces que k = 4 minimizó la cantidad de pruebas es: 0\n",
      "\n",
      "La cantidad de veces que k = 5 minimizó la cantidad de pruebas es: 0\n",
      "\n",
      "La cantidad de veces que k = 10 minimizó la cantidad de pruebas es: 2988\n",
      "Pruebas promedio: 124\n",
      "\n",
      "La cantidad de veces que k = 20 minimizó la cantidad de pruebas es: 12\n",
      "Pruebas promedio: 118\n",
      "\n",
      "La cantidad de veces que k = 25 minimizó la cantidad de pruebas es: 0\n",
      "\n",
      "La cantidad de veces que k = 50 minimizó la cantidad de pruebas es: 0\n",
      "\n",
      "La cantidad de veces que k = 100 minimizó la cantidad de pruebas es: 0\n",
      "\n",
      "La cantidad de veces que k = 125 minimizó la cantidad de pruebas es: 0\n",
      "\n",
      "La cantidad de veces que k = 250 minimizó la cantidad de pruebas es: 0\n",
      "\n",
      "Total = 3000\n"
     ]
    }
   ],
   "source": [
    "from random import randrange as rand\n",
    "k2 = 0\n",
    "k4 = 0\n",
    "k5 = 0\n",
    "k10 = 0\n",
    "k20 = 0\n",
    "k25 = 0\n",
    "k50 = 0 \n",
    "k100 = 0                                  # Inicializacion de contadores.\n",
    "k125 = 0\n",
    "k250 = 0 \n",
    "suma2 = 0\n",
    "suma4 = 0\n",
    "suma5 = 0\n",
    "suma10 = 0\n",
    "suma20 = 0\n",
    "suma25 = 0\n",
    "suma50 = 0\n",
    "suma100 = 0\n",
    "suma125 = 0\n",
    "suma250 = 0\n",
    "for x in range(3000):                               # Se repite 3000 veces el experimento.\n",
    "    enf = 8\n",
    "    divisores = [2,4,5,10,20,25,50,100,125,250]\n",
    "    posiciones = []                                 # Lista para guardar la posicion de los perritos enfermos.\n",
    "    perritos = []                                   # Lista para guardar a los perritos.\n",
    "    minimo = 500\n",
    "\n",
    "    for i in range(enf):\n",
    "        pos = rand(500)\n",
    "        while(pos in posiciones):                   # Se determina la posicion que ocupara cada perro enfermo\n",
    "            pos = rand(500)                         # en la lista de perritos y se ordena de manera ascendente.\n",
    "        posiciones.append(pos)\n",
    "    posiciones.sort()\n",
    "    \n",
    "    cont = 0\n",
    "    for k in range(500):                            # Se construye la lista de perritos poniendo un 0 si el\n",
    "        if(cont != len(posiciones)):                # perrito esta sano o 1 si el perrito esta enfermo.\n",
    "            if(k == posiciones[cont]):               \n",
    "                perritos.append(1)                  # Para eso se tiene un contador que avanza por la lista \n",
    "                cont += 1                           # de posiciones y cada vez que en la lista de perritos \n",
    "            else:                                   # la posicion sea igual a la posicion marcada, se coloca \n",
    "                perritos.append(0)                  # el 1 en la lista perritos y el contador avanza a la  \n",
    "        else:                                       # siguiente posicion. \n",
    "            perritos.append(0)                       \n",
    "                                                     \n",
    "    for k in divisores:                             # Se comienza a revisar la lista de perritos \n",
    "        cont = 0                                    # con cada valor de k correspondiente (se omite el 1 y el 500\n",
    "        prueba = 0                                  # ya que nunca van a minimizar la cantidad de pruebas).\n",
    "        for l in range(500//k):\n",
    "            if(cont != 500):                        # Se hace la prueba grupo por grupo, y en caso de que haya al \n",
    "                if(1 in perritos[cont:cont+k]):     # menos un perrito enfermo se suman la cantidad de pruebas \n",
    "                    prueba += k                     # correspondiente al tamaño del grupo.\n",
    "                prueba += 1                         \n",
    "            cont += k    \n",
    "        if(prueba < minimo):                        # Se revisa si el k utilizado es el minimo actualmente\n",
    "            minimo = prueba                         # y en caso de que lo sea, se guarda.\n",
    "            kmin = k\n",
    "    if(kmin == 2):\n",
    "        k2 += 1\n",
    "        suma2 += minimo\n",
    "    elif(kmin == 4):\n",
    "        k4 += 1\n",
    "        suma4 += minimo\n",
    "    elif(kmin == 5):\n",
    "        k5 += 1\n",
    "        suma5 += minimo\n",
    "    elif(kmin == 10):                               # Se verifica cual k fue el que minimizo la cantidad de \n",
    "        k10 += 1                                    # pruebas en esa repeticion, se aumenta el contador y  \n",
    "        suma10 += minimo                            # se suma la cantidad de pruebas que realizo ese k\n",
    "    elif(kmin == 20):                               # para luego mostrar por pantalla su promedio.\n",
    "        k20 += 1\n",
    "        suma20 += minimo\n",
    "    elif(kmin == 25):\n",
    "        k25 += 1\n",
    "        suma25 += minimo\n",
    "    elif(kmin == 50):\n",
    "        k50 += 1\n",
    "        suma50 += minimo\n",
    "    elif(kmin == 100):\n",
    "        k100 += 1\n",
    "        suma100 += minimo\n",
    "    elif(kmin == 125):\n",
    "        k125 += 1\n",
    "        suma125 += minimo\n",
    "    elif(kmin == 250):\n",
    "        k250 += 1\n",
    "        suma250 += minimo\n",
    "\n",
    "print(\"La cantidad de veces que k = 2 minimizó la cantidad de pruebas es:\",k2)\n",
    "if(k2 != 0):\n",
    "    print(\"Pruebas promedio:\",suma2//k2)\n",
    "    \n",
    "print(\"\\nLa cantidad de veces que k = 4 minimizó la cantidad de pruebas es:\",k4)\n",
    "if(k4 != 0):\n",
    "    print(\"Pruebas promedio:\",suma4//k4)\n",
    "    \n",
    "print(\"\\nLa cantidad de veces que k = 5 minimizó la cantidad de pruebas es:\",k5)\n",
    "if(k5 != 0):\n",
    "    print(\"Pruebas promedio:\",suma5//k5)\n",
    "    \n",
    "print(\"\\nLa cantidad de veces que k = 10 minimizó la cantidad de pruebas es:\",k10)\n",
    "if(k10 != 0):\n",
    "    print(\"Pruebas promedio:\",suma10//k10)\n",
    "    \n",
    "print(\"\\nLa cantidad de veces que k = 20 minimizó la cantidad de pruebas es:\",k20)\n",
    "if(k20 != 0):\n",
    "    print(\"Pruebas promedio:\",suma20//k20)\n",
    "    \n",
    "print(\"\\nLa cantidad de veces que k = 25 minimizó la cantidad de pruebas es:\",k25)    \n",
    "if(k25 != 0):\n",
    "    print(\"Pruebas promedio:\",suma25//k25)\n",
    "    \n",
    "print(\"\\nLa cantidad de veces que k = 50 minimizó la cantidad de pruebas es:\",k50)    \n",
    "if(k50 != 0):\n",
    "    print(\"Pruebas promedio:\",suma50//k50)\n",
    "    \n",
    "print(\"\\nLa cantidad de veces que k = 100 minimizó la cantidad de pruebas es:\",k100)    \n",
    "if(k100 != 0):\n",
    "    print(\"Pruebas promedio:\",suma100//k100)\n",
    "\n",
    "print(\"\\nLa cantidad de veces que k = 125 minimizó la cantidad de pruebas es:\",k125)\n",
    "if(k125 != 0):\n",
    "    print(\"Pruebas promedio:\",suma125//k125)\n",
    "    \n",
    "print(\"\\nLa cantidad de veces que k = 250 minimizó la cantidad de pruebas es:\",k250)\n",
    "if(k250 != 0):\n",
    "    print(\"Pruebas promedio:\",suma250//k250)\n",
    "    \n",
    "print(\"\\nTotal =\",k2+k4+k5+k10+k20+k25+k50+k100+k125+k250)"
   ]
  },
  {
   "cell_type": "markdown",
   "metadata": {},
   "source": [
    "Como se puede observar, de las 3000 repeticiones se obtiene que distintos valores de k (10,20,25) logran minimizar la cantidad de pruebas a realizar en cada caso, sin embargo k = 10 muestra una frecuencia mucho mayor que los demás valores de k. Respecto al resultado obtenido en el inciso a) (7.9 aproximadamente) el valor obtenido empíricamente se acerca bastante al valor teórico, ya que hay que tener en cuenta que el valor de k no puede ser cualquier entero (dominio restringido). Sin embargo, el valor teórico es una aproximación que posee bastantes supuestos, por lo que su valor también puede no ser tan preciso."
   ]
  },
  {
   "cell_type": "markdown",
   "metadata": {},
   "source": [
    ">c) Ahora usted conoce la cantidad de perros infectados, realice el mismo experimento que en b) y compare sus resultados. ¿A qué se debe esta diferencia? "
   ]
  },
  {
   "cell_type": "code",
   "execution_count": 10,
   "metadata": {},
   "outputs": [
    {
     "name": "stdout",
     "output_type": "stream",
     "text": [
      "La cantidad de veces que k = 2 minimizó la cantidad de pruebas es: 0\n",
      "\n",
      "La cantidad de veces que k = 4 minimizó la cantidad de pruebas es: 2\n",
      "Pruebas promedio: 80\n",
      "\n",
      "La cantidad de veces que k = 5 minimizó la cantidad de pruebas es: 303\n",
      "Pruebas promedio: 109\n",
      "\n",
      "La cantidad de veces que k = 10 minimizó la cantidad de pruebas es: 2686\n",
      "Pruebas promedio: 119\n",
      "\n",
      "La cantidad de veces que k = 20 minimizó la cantidad de pruebas es: 9\n",
      "Pruebas promedio: 113\n",
      "\n",
      "La cantidad de veces que k = 25 minimizó la cantidad de pruebas es: 0\n",
      "\n",
      "La cantidad de veces que k = 50 minimizó la cantidad de pruebas es: 0\n",
      "\n",
      "La cantidad de veces que k = 100 minimizó la cantidad de pruebas es: 0\n",
      "\n",
      "La cantidad de veces que k = 125 minimizó la cantidad de pruebas es: 0\n",
      "\n",
      "La cantidad de veces que k = 250 minimizó la cantidad de pruebas es: 0\n",
      "\n",
      "Total = 3000\n"
     ]
    }
   ],
   "source": [
    "from random import randrange as rand\n",
    "k2 = 0\n",
    "k4 = 0\n",
    "k5 = 0\n",
    "k10 = 0\n",
    "k20 = 0\n",
    "k25 = 0\n",
    "k50 = 0\n",
    "k100 = 0\n",
    "k125 = 0\n",
    "k250 = 0\n",
    "suma2 = 0\n",
    "suma4 = 0\n",
    "suma5 = 0\n",
    "suma10 = 0\n",
    "suma20 = 0\n",
    "suma25 = 0\n",
    "suma50 = 0\n",
    "suma100 = 0\n",
    "suma125 = 0\n",
    "suma250 = 0\n",
    "for x in range(3000):\n",
    "    enf = 8\n",
    "    divisores = [2,4,5,10,20,25,50,100,125,250]\n",
    "    posiciones = []\n",
    "    perritos = []\n",
    "    minimo = 500\n",
    "\n",
    "    for i in range(enf):\n",
    "        pos = rand(500)\n",
    "        while(pos in posiciones):\n",
    "            pos = rand(500)\n",
    "        posiciones.append(pos)\n",
    "    posiciones.sort()\n",
    "    \n",
    "    cont = 0\n",
    "    for k in range(500):\n",
    "        if(cont != len(posiciones)):\n",
    "            if(k == posiciones[cont]):\n",
    "                perritos.append(1)\n",
    "                cont += 1\n",
    "            else:\n",
    "                perritos.append(0)\n",
    "        else:\n",
    "            perritos.append(0)\n",
    "            \n",
    "    for k in divisores:\n",
    "        cont = 0\n",
    "        prueba = 0\n",
    "        cont_enf = 0\n",
    "        for l in range(500//k):\n",
    "            if(cont != 500):\n",
    "                if(1 in perritos[cont:cont+k]):\n",
    "                    prueba += k\n",
    "                    for m in range(cont,cont+k):\n",
    "                        if(perritos[m] == 1):       # Es el mismo codigo que en el inciso b), solo que\n",
    "                            cont_enf += 1           # en este caso se verifica que la cantidad de perritos\n",
    "                        if(cont_enf == 8):          # enfermos encontrados sea igual a 8.\n",
    "                            break                   # En caso de que se hayan encontrado los 8 perritos enfermos\n",
    "                    if(cont_enf == 8):              # se sale de los for, se revisa si el k es minimo y se \n",
    "                        break                       # continua con el siguiente k.\n",
    "                prueba += 1\n",
    "            cont += k    \n",
    "        if(prueba < minimo):\n",
    "            minimo = prueba\n",
    "            kmin = k\n",
    "    \n",
    "    if(kmin == 2):\n",
    "        k2 += 1\n",
    "        suma2 += minimo\n",
    "    elif(kmin == 4):\n",
    "        k4 += 1\n",
    "        suma4 += minimo\n",
    "    elif(kmin == 5):\n",
    "        k5 += 1\n",
    "        suma5 += minimo\n",
    "    elif(kmin == 10):\n",
    "        k10 += 1\n",
    "        suma10 += minimo\n",
    "    elif(kmin == 20):\n",
    "        k20 += 1\n",
    "        suma20 += minimo\n",
    "    elif(kmin == 25):\n",
    "        k25 += 1\n",
    "        suma25 += minimo\n",
    "    elif(kmin == 50):\n",
    "        k50 += 1\n",
    "        suma50 += minimo\n",
    "    elif(kmin == 100):\n",
    "        k100 += 1\n",
    "        suma100 += minimo\n",
    "    elif(kmin == 125):\n",
    "        k125 += 1\n",
    "        suma125 += minimo\n",
    "    elif(kmin == 250):\n",
    "        k250 += 1\n",
    "        suma250 += minimo\n",
    "\n",
    "#En caso de que un k no haya minimizado en ningun caso, no se muestra por pantalla su promedio.        \n",
    "print(\"La cantidad de veces que k = 2 minimizó la cantidad de pruebas es:\",k2)\n",
    "if(k2 != 0):\n",
    "    print(\"Pruebas promedio:\",suma2//k2)\n",
    "    \n",
    "print(\"\\nLa cantidad de veces que k = 4 minimizó la cantidad de pruebas es:\",k4)\n",
    "if(k4 != 0):\n",
    "    print(\"Pruebas promedio:\",suma4//k4)\n",
    "    \n",
    "print(\"\\nLa cantidad de veces que k = 5 minimizó la cantidad de pruebas es:\",k5)\n",
    "if(k5 != 0):\n",
    "    print(\"Pruebas promedio:\",suma5//k5)\n",
    "    \n",
    "print(\"\\nLa cantidad de veces que k = 10 minimizó la cantidad de pruebas es:\",k10)\n",
    "if(k10 != 0):\n",
    "    print(\"Pruebas promedio:\",suma10//k10)\n",
    "    \n",
    "print(\"\\nLa cantidad de veces que k = 20 minimizó la cantidad de pruebas es:\",k20)\n",
    "if(k20 != 0):\n",
    "    print(\"Pruebas promedio:\",suma20//k20)\n",
    "    \n",
    "print(\"\\nLa cantidad de veces que k = 25 minimizó la cantidad de pruebas es:\",k25)    \n",
    "if(k25 != 0):\n",
    "    print(\"Pruebas promedio:\",suma25//k25)\n",
    "    \n",
    "print(\"\\nLa cantidad de veces que k = 50 minimizó la cantidad de pruebas es:\",k50)    \n",
    "if(k50 != 0):\n",
    "    print(\"Pruebas promedio:\",suma50//k50)\n",
    "    \n",
    "print(\"\\nLa cantidad de veces que k = 100 minimizó la cantidad de pruebas es:\",k100)    \n",
    "if(k100 != 0):\n",
    "    print(\"Pruebas promedio:\",suma100//k100)\n",
    "\n",
    "print(\"\\nLa cantidad de veces que k = 125 minimizó la cantidad de pruebas es:\",k125)\n",
    "if(k125 != 0):\n",
    "    print(\"Pruebas promedio:\",suma125//k125)\n",
    "    \n",
    "print(\"\\nLa cantidad de veces que k = 250 minimizó la cantidad de pruebas es:\",k250)\n",
    "if(k250 != 0):\n",
    "    print(\"Pruebas promedio:\",suma250//k250)\n",
    "    \n",
    "print(\"\\nTotal =\",k2+k4+k5+k10+k20+k25+k50+k100+k125+k250)"
   ]
  },
  {
   "cell_type": "markdown",
   "metadata": {},
   "source": [
    "Al igual que en el inciso b), se obtienen diversos valores de k, pero en este caso la variación es aún más (4,5,10,20,25,50). Esto se debe a que al conocer la cantidad de perros que se encuentran enfermos, basta con revisar hasta que encontramos los 8 perros enfermos y detenernos. Por lo tanto por temas de azar podría ser que en un caso los perros enfermos estén muy juntos o más cerca del inicio, y le otorgue la posibilidad a otros valores de k minimizar la cantidad de pruebas a realizar. \n",
    "Sin embargo, igualmente el k = 10 predomina entre los otros valores."
   ]
  },
  {
   "cell_type": "markdown",
   "metadata": {},
   "source": [
    "## Reglas del Juego y Comentarios \n",
    "\n",
    "+ Errores ortográficos, de redacción y oraciones ambiguas descontarán parte de su puntaje.\n",
    "+ Dudas solamente hasta el día 27 de Abril a las 15hrs.\n",
    "+ Dudas **principalmente** vía moodle, evite otro tipo de medio ya que su duda podría ser la de otro.\n",
    "+ Cada día de atraso descuenta 25 puntos de la nota final con un máximo de dos días de retraso (después es 0).\n",
    "+ La versión de R que se usará para revisar es 3.5.3\n",
    "+ La versión de Python que se usará para revisar es 3.6.8\n",
    "+ Use cualquier librería que estime conveniente, si requiere de instalación explicitarlo en el README (y bien explicitado).\n",
    "+ Código comentado para facilitar entendimiento.\n",
    "+ Sea formal y claro con su respuesta, **explique su procedimiento y luego responda.** \n",
    "+ Defina bien las secciones de su notebook, el orden siempre es bueno :) [Tips para usar Markdown](https://github.com/adam-p/markdown-here/wiki/Markdown-Cheatsheet)"
   ]
  }
 ],
 "metadata": {
  "kernelspec": {
   "display_name": "Python 3",
   "language": "python",
   "name": "python3"
  },
  "language_info": {
   "codemirror_mode": {
    "name": "ipython",
    "version": 3
   },
   "file_extension": ".py",
   "mimetype": "text/x-python",
   "name": "python",
   "nbconvert_exporter": "python",
   "pygments_lexer": "ipython3",
   "version": "3.7.3"
  }
 },
 "nbformat": 4,
 "nbformat_minor": 2
}
